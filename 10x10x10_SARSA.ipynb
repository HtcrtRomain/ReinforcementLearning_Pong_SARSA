{
 "cells": [
  {
   "cell_type": "markdown",
   "metadata": {},
   "source": [
    "# PONG\n",
    "\n",
    "### Table of content\n",
    "1. Algorithm learning process\n",
    "2. Learning Outcomes\n",
    "3. Video of an episode\n",
    "4. Comparison of several policies"
   ]
  },
  {
   "cell_type": "markdown",
   "metadata": {},
   "source": [
    "## 1. Algorithm learning process"
   ]
  },
  {
   "cell_type": "code",
   "execution_count": 1,
   "metadata": {},
   "outputs": [],
   "source": [
    "import gym\n",
    "import matplotlib.pyplot as plt\n",
    "from IPython import display    \n",
    "import time                    \n",
    "import atari_py\n",
    "import numpy as np             \n",
    "from gym import wrappers       \n",
    "import io                      \n",
    "import base64                  \n",
    "from IPython.display import HTML#\n",
    "import random\n",
    "import statistics\n",
    "from numpy import load\n",
    "from numpy import save"
   ]
  },
  {
   "cell_type": "markdown",
   "metadata": {},
   "source": [
    "We initialize the positions of the elements we take into account as intervals."
   ]
  },
  {
   "cell_type": "code",
   "execution_count": 2,
   "metadata": {},
   "outputs": [],
   "source": [
    "def YG(observation):\n",
    "    \"Return Y state of raquet from Observation\"\n",
    "    ol142_92 = observation[34:194,142,0]==92\n",
    "    ol142_101 = observation[34:194,142,0]==101 \n",
    "    wG = round(np.mean(np.argwhere(np.logical_or(ol142_92,ol142_101)))) \n",
    "    \n",
    "    #print(wG)\n",
    "    yG160 = int(wG)+34    \n",
    "    for i in interval_YG:\n",
    "        if (yG160>=i) and (yG160<i+16):\n",
    "            state=interval_YG.index(i)\n",
    "            state=int(state)+1\n",
    "    return state"
   ]
  },
  {
   "cell_type": "code",
   "execution_count": 3,
   "metadata": {},
   "outputs": [],
   "source": [
    "def YB(observation):\n",
    "    \"Return Y state of ball from Observation\"\n",
    "    oball_236 = observation[34:194,:,0]== 236 \n",
    "    oball_101 = observation[34:194,:,0]== 101 \n",
    "    oball = np.logical_or(oball_236,oball_101)\n",
    "\n",
    "\n",
    "    if np.sum(np.sum(oball, axis=0))==0: \n",
    "        return 5 \n",
    "\n",
    "    ball1 = np.sum(oball, axis=1) \n",
    "    wB160 = int(round(np.mean(np.argwhere(ball1)))+34)  \n",
    "    for i in interval_YG:\n",
    "        if(wB160>=i) and (wB160<i+16):\n",
    "            state1=interval_YG.index(i)\n",
    "            state1=int(state1)+1\n",
    "    return state1\n"
   ]
  },
  {
   "cell_type": "code",
   "execution_count": 35,
   "metadata": {},
   "outputs": [],
   "source": [
    "def XB(observation):\n",
    "    \"Return Y state of ball from Observation\"\n",
    "    oball_236 = observation[34:194,:,0]== 236\n",
    "    oball_101 = observation[34:194,:,0]== 101 \n",
    "    oball = np.logical_or(oball_236,oball_101)\n",
    "    \n",
    "    if np.sum(np.sum(oball, axis=0))==0:\n",
    "        return 5 \n",
    "    \n",
    "\n",
    "    ball1 = np.sum(oball, axis=0)\n",
    "    wB160 = int(round(np.mean(np.argwhere(ball1))))\n",
    "    if wB160<63:\n",
    "     state= 1\n",
    "    if wB160>=143:\n",
    "        state= 10\n",
    "    else:\n",
    "        for i in interval_XB:\n",
    "            #print(i)\n",
    "            if(wB160>=i) and (wB160<i+10):\n",
    "                state=interval_XB.index(i)\n",
    "                state=int(state)+1\n",
    "    return state"
   ]
  },
  {
   "cell_type": "code",
   "execution_count": 5,
   "metadata": {},
   "outputs": [],
   "source": [
    "def XB_precise(observation):\n",
    "    \"Return Y state of ball from Observation\"\n",
    "    oball_236 = observation[34:194,:,0]== 236\n",
    "    oball_101 = observation[34:194,:,0]== 101 \n",
    "    oball = np.logical_or(oball_236,oball_101)\n",
    "\n",
    "    # check if ball not there yet\n",
    "    if np.sum(np.sum(oball, axis=0))==0:\n",
    "        return 75 \n",
    "    \n",
    "\n",
    "    ball1 = np.sum(oball, axis=0)\n",
    "    wB160 = int(round(np.mean(np.argwhere(ball1))))\n",
    "    return wB160"
   ]
  },
  {
   "cell_type": "markdown",
   "metadata": {},
   "source": [
    "We initialize the Q table"
   ]
  },
  {
   "cell_type": "code",
   "execution_count": 94,
   "metadata": {},
   "outputs": [],
   "source": [
    "Q_table = np.zeros([3,11,11,11])\n",
    "cum_rewardss=[]"
   ]
  },
  {
   "cell_type": "markdown",
   "metadata": {},
   "source": [
    "We initialize the parameters of the episodes:\n",
    "- The version of the game\n",
    "- The length\n",
    "- The number of episodes"
   ]
  },
  {
   "cell_type": "code",
   "execution_count": 70,
   "metadata": {},
   "outputs": [
    {
     "data": {
      "text/plain": [
       "['NOOP', 'FIRE', 'RIGHT', 'LEFT', 'RIGHTFIRE', 'LEFTFIRE']"
      ]
     },
     "execution_count": 70,
     "metadata": {},
     "output_type": "execute_result"
    }
   ],
   "source": [
    "# define the game length \n",
    "n_epi = 1000\n",
    "L = 1500#1500\n",
    "\n",
    "env = gym.make('Pong-v0')\n",
    "#env = gym.make('PongNoFrameskip-v4')\n",
    "env.unwrapped.get_action_meanings()\n",
    "#noop: rester\n",
    "#right=monter\n",
    "#left"
   ]
  },
  {
   "cell_type": "code",
   "execution_count": 123,
   "metadata": {},
   "outputs": [
    {
     "name": "stdout",
     "output_type": "stream",
     "text": [
      "Welcome to the epiosde n°:1\n"
     ]
    }
   ],
   "source": [
    "env = gym.make('Pong-v0')\n",
    "#env = gym.make('PongNoFrameskip-v4')\n",
    "\n",
    "alpha=0.5\n",
    "interval_YG=[34,50,66,82,98,114,130,146,162,178]\n",
    "interval_XB=[0,62,72,82,92,102,112,122,132,142]\n",
    "random_action=[1,2,3]\n",
    "cum_hitss=[]\n",
    "\n",
    "L=1500\n",
    "n_epi=1\n",
    "\n",
    "for i in range(n_epi):\n",
    "    \n",
    "    if i%20==0:\n",
    "        print(\"Welcome to the epiosde n°:\"+str(i+1))\n",
    "    env.reset()\n",
    "    cum_reward =0\n",
    "    cum_bal_hits=0\n",
    "    cum_rewards = np.zeros(L)\n",
    "    observation = env.reset()\n",
    "    ball_Xposition=[]\n",
    "    ball_XPrecise=[]\n",
    "    Y_GPosition=[]\n",
    "    ball_Yposition=[]\n",
    "    actions=[]\n",
    "    xff=0\n",
    "    time=-1\n",
    "    \n",
    "    for t in range(L): \n",
    "        time=time+1 \n",
    "        bal_hits=0\n",
    "        yg=YG(observation)\n",
    "        yb=YB(observation)\n",
    "        xb=XB(observation)\n",
    "        xb_precise=XB_precise(observation)\n",
    "    \n",
    "        if xff==1:#\n",
    "        \n",
    "            action = random.choice(random_action)\n",
    "            #print('EXPLORE with action ' + str(action))\n",
    "            observation, reward, done, info = env.step(action) \n",
    "            cum_reward += reward\n",
    "            cum_rewards[t]=reward\n",
    "            ball_Xposition.append(xb)\n",
    "            ball_XPrecise.append(xb_precise)\n",
    "            #print(ball_Xposition)\n",
    "            Y_GPosition.append(yg)\n",
    "            ball_Yposition.append(yb)\n",
    "            actions.append(action)\n",
    "            \n",
    "    \n",
    "        else:\n",
    "            if Q_table[0,yg,yb,xb]==Q_table[1,yg,yb,xb]==Q_table[2,yg,yb,xb]:\n",
    "                #print(\"pas de préférence\")\n",
    "                action = random.choice(random_action)\n",
    "            elif (Q_table[0,yg,yb,xb]> Q_table[1,yg,yb,xb]) and (Q_table[0,yg,yb,xb]> Q_table[2,yg,yb,xb]):\n",
    "                action=1\n",
    "            elif (Q_table[1,yg,yb,xb]> Q_table[0,yg,yb,xb]) and (Q_table[1,yg,yb,xb]> Q_table[2,yg,yb,xb]):\n",
    "                action=2\n",
    "            elif (Q_table[2,yg,yb,xb]> Q_table[0,yg,yb,xb]) and (Q_table[2,yg,yb,xb]> Q_table[1,yg,yb,xb]):\n",
    "                action=3\n",
    "\n",
    "            #print(\"Ceci est la valeur d'action : \"+str(action) )\n",
    "            observation, reward, done, info = env.step(action)\n",
    "            \n",
    "            ball_Xposition.append(xb)\n",
    "            ball_XPrecise.append(xb_precise)\n",
    "            #print(ball_Xposition)\n",
    "            Y_GPosition.append(yg)\n",
    "            ball_Yposition.append(yb)\n",
    "            actions.append(action)\n",
    "            \n",
    "            touched=0\n",
    "            #if (ball_XPrecise[t]>=137 and ball_XPrecise[t]<=142) and ball_XPrecise[t]<ball_XPrecise[t-1]:\n",
    "            if (ball_Xposition[t]==8) and ball_Xposition[t]<ball_Xposition[t-1]:\n",
    "                #print(\"on a touché\")\n",
    "                touched=1\n",
    "                bal_hits=1\n",
    "            cum_reward +=reward\n",
    "            cum_bal_hits+=bal_hits\n",
    "            \n",
    "            if touched==1:\n",
    "                zs=time-35#-35\n",
    "                ze=time\n",
    "                for z in range(zs,ze):\n",
    "                    action=actions[z]\n",
    "                    action=action-1\n",
    "                    yg=Y_GPosition[z]\n",
    "                    yb=ball_Yposition[z]\n",
    "                    xb=ball_Xposition[z]\n",
    "                    Q_table[action,yg,yb,xb]= Q_table[action,yg,yb,xb]+alpha*(10+(Q_table[actions[z+1]-1,Y_GPosition[z+1],ball_Yposition[z+1],ball_Xposition[z+1]])-Q_table[action,yg,yb,xb])\n",
    "                    #Q_table[action,yg,yb,xb]= Q_table[action,yg,yb,xb]+alpha*(10+1*max(Q_table[0,Y_GPosition[z+1],ball_Yposition[z+1],ball_Xposition[z+1]],Q_table[1,Y_GPosition[z+1],ball_Yposition[z+1],ball_Xposition[z+1]],Q_table[2,Y_GPosition[z+1],ball_Yposition[z+1],ball_Xposition[z+1]])-Q_table[action,yg,yb,xb])\n",
    "                \n",
    "                \n",
    "            cum_rewards[t] = cum_reward\n",
    "            if done:\n",
    "                break #if the game is over\n",
    "    env.close() # was env.render(close=True) instead\n",
    "    cum_rewardss.append(cum_reward)\n",
    "    cum_hitss.append(cum_bal_hits)"
   ]
  },
  {
   "cell_type": "markdown",
   "metadata": {},
   "source": [
    "## 2. Learning Outcomes"
   ]
  },
  {
   "cell_type": "markdown",
   "metadata": {},
   "source": [
    "We want to see the score evolution"
   ]
  },
  {
   "cell_type": "code",
   "execution_count": 102,
   "metadata": {},
   "outputs": [
    {
     "data": {
      "image/png": "[encoded data removed]",
      "text/plain": [
       "<Figure size 432x288 with 1 Axes>"
      ]
     },
     "metadata": {
      "needs_background": "light"
     },
     "output_type": "display_data"
    },
    {
     "name": "stdout",
     "output_type": "stream",
     "text": [
      "-8.18\n",
      "-7.71\n",
      "-7.079207920792079\n",
      "-7.574257425742574\n",
      "-7.653465346534653\n",
      "-7.97979797979798\n",
      "-6.881188118811881\n",
      "-8.049504950495049\n",
      "-6.7227722772277225\n",
      "-7.884615384615385\n"
     ]
    }
   ],
   "source": [
    "plt.plot(cum_rewardss)\n",
    "plt.title(\"Cumulative reward of 1000 episodes\")\n",
    "plt.show()\n",
    "print(statistics.mean(cum_rewardss[1:101]))\n",
    "print(statistics.mean(cum_rewardss[101:201]))\n",
    "print(statistics.mean(cum_rewardss[200:301]))\n",
    "print(statistics.mean(cum_rewardss[300:401]))\n",
    "print(statistics.mean(cum_rewardss[400:501]))\n",
    "print(statistics.mean(cum_rewardss[500:599]))\n",
    "print(statistics.mean(cum_rewardss[600:701]))\n",
    "print(statistics.mean(cum_rewardss[700:801]))\n",
    "print(statistics.mean(cum_rewardss[800:901]))\n",
    "print(statistics.mean(cum_rewardss[900:999]))"
   ]
  },
  {
   "cell_type": "code",
   "execution_count": 12,
   "metadata": {},
   "outputs": [],
   "source": [
    "save('Q_table_cas_3actionsSARSA_LR0.7',Q_table)"
   ]
  },
  {
   "cell_type": "markdown",
   "metadata": {},
   "source": [
    "We can the number of ball touched at each episode. The values are not 100% reliable"
   ]
  },
  {
   "cell_type": "code",
   "execution_count": 103,
   "metadata": {
    "collapsed": true,
    "jupyter": {
     "outputs_hidden": true
    }
   },
   "outputs": [
    {
     "data": {
      "image/png": "[encoded data removed]",
      "text/plain": [
       "<Figure size 432x288 with 1 Axes>"
      ]
     },
     "metadata": {
      "needs_background": "light"
     },
     "output_type": "display_data"
    },
    {
     "ename": "StatisticsError",
     "evalue": "mean requires at least one data point",
     "output_type": "error",
     "traceback": [
      "\u001b[0;31m---------------------------------------------------------------------------\u001b[0m",
      "\u001b[0;31mStatisticsError\u001b[0m                           Traceback (most recent call last)",
      "\u001b[0;32m<ipython-input-103-c6dcf44287b9>\u001b[0m in \u001b[0;36m<module>\u001b[0;34m\u001b[0m\n\u001b[1;32m      1\u001b[0m \u001b[0mplt\u001b[0m\u001b[0;34m.\u001b[0m\u001b[0mplot\u001b[0m\u001b[0;34m(\u001b[0m\u001b[0mcum_hitss\u001b[0m\u001b[0;34m)\u001b[0m\u001b[0;34m\u001b[0m\u001b[0;34m\u001b[0m\u001b[0m\n\u001b[1;32m      2\u001b[0m \u001b[0mplt\u001b[0m\u001b[0;34m.\u001b[0m\u001b[0mshow\u001b[0m\u001b[0;34m(\u001b[0m\u001b[0;34m)\u001b[0m\u001b[0;34m\u001b[0m\u001b[0;34m\u001b[0m\u001b[0m\n\u001b[0;32m----> 3\u001b[0;31m \u001b[0mprint\u001b[0m\u001b[0;34m(\u001b[0m\u001b[0mstatistics\u001b[0m\u001b[0;34m.\u001b[0m\u001b[0mmean\u001b[0m\u001b[0;34m(\u001b[0m\u001b[0mcum_hitss\u001b[0m\u001b[0;34m[\u001b[0m\u001b[0;36m1\u001b[0m\u001b[0;34m:\u001b[0m\u001b[0;36m101\u001b[0m\u001b[0;34m]\u001b[0m\u001b[0;34m)\u001b[0m\u001b[0;34m)\u001b[0m\u001b[0;34m\u001b[0m\u001b[0;34m\u001b[0m\u001b[0m\n\u001b[0m\u001b[1;32m      4\u001b[0m \u001b[0mprint\u001b[0m\u001b[0;34m(\u001b[0m\u001b[0mstatistics\u001b[0m\u001b[0;34m.\u001b[0m\u001b[0mmean\u001b[0m\u001b[0;34m(\u001b[0m\u001b[0mcum_hitss\u001b[0m\u001b[0;34m[\u001b[0m\u001b[0;36m499\u001b[0m\u001b[0;34m:\u001b[0m\u001b[0;36m599\u001b[0m\u001b[0;34m]\u001b[0m\u001b[0;34m)\u001b[0m\u001b[0;34m)\u001b[0m\u001b[0;34m\u001b[0m\u001b[0;34m\u001b[0m\u001b[0m\n\u001b[1;32m      5\u001b[0m \u001b[0mprint\u001b[0m\u001b[0;34m(\u001b[0m\u001b[0mstatistics\u001b[0m\u001b[0;34m.\u001b[0m\u001b[0mmean\u001b[0m\u001b[0;34m(\u001b[0m\u001b[0mcum_hitss\u001b[0m\u001b[0;34m[\u001b[0m\u001b[0;36m599\u001b[0m\u001b[0;34m:\u001b[0m\u001b[0;36m699\u001b[0m\u001b[0;34m]\u001b[0m\u001b[0;34m)\u001b[0m\u001b[0;34m)\u001b[0m\u001b[0;34m\u001b[0m\u001b[0;34m\u001b[0m\u001b[0m\n",
      "\u001b[0;32m/opt/tljh/user/lib/python3.7/statistics.py\u001b[0m in \u001b[0;36mmean\u001b[0;34m(data)\u001b[0m\n\u001b[1;32m    308\u001b[0m     \u001b[0mn\u001b[0m \u001b[0;34m=\u001b[0m \u001b[0mlen\u001b[0m\u001b[0;34m(\u001b[0m\u001b[0mdata\u001b[0m\u001b[0;34m)\u001b[0m\u001b[0;34m\u001b[0m\u001b[0;34m\u001b[0m\u001b[0m\n\u001b[1;32m    309\u001b[0m     \u001b[0;32mif\u001b[0m \u001b[0mn\u001b[0m \u001b[0;34m<\u001b[0m \u001b[0;36m1\u001b[0m\u001b[0;34m:\u001b[0m\u001b[0;34m\u001b[0m\u001b[0;34m\u001b[0m\u001b[0m\n\u001b[0;32m--> 310\u001b[0;31m         \u001b[0;32mraise\u001b[0m \u001b[0mStatisticsError\u001b[0m\u001b[0;34m(\u001b[0m\u001b[0;34m'mean requires at least one data point'\u001b[0m\u001b[0;34m)\u001b[0m\u001b[0;34m\u001b[0m\u001b[0;34m\u001b[0m\u001b[0m\n\u001b[0m\u001b[1;32m    311\u001b[0m     \u001b[0mT\u001b[0m\u001b[0;34m,\u001b[0m \u001b[0mtotal\u001b[0m\u001b[0;34m,\u001b[0m \u001b[0mcount\u001b[0m \u001b[0;34m=\u001b[0m \u001b[0m_sum\u001b[0m\u001b[0;34m(\u001b[0m\u001b[0mdata\u001b[0m\u001b[0;34m)\u001b[0m\u001b[0;34m\u001b[0m\u001b[0;34m\u001b[0m\u001b[0m\n\u001b[1;32m    312\u001b[0m     \u001b[0;32massert\u001b[0m \u001b[0mcount\u001b[0m \u001b[0;34m==\u001b[0m \u001b[0mn\u001b[0m\u001b[0;34m\u001b[0m\u001b[0;34m\u001b[0m\u001b[0m\n",
      "\u001b[0;31mStatisticsError\u001b[0m: mean requires at least one data point"
     ]
    }
   ],
   "source": [
    "plt.plot(cum_hitss)\n",
    "plt.show()\n",
    "print(statistics.mean(cum_hitss[1:101]))\n",
    "print(statistics.mean(cum_hitss[499:599]))\n",
    "print(statistics.mean(cum_hitss[599:699]))\n",
    "print(statistics.mean(cum_hitss[900:999]))"
   ]
  },
  {
   "cell_type": "markdown",
   "metadata": {},
   "source": [
    "We want to see how full of zeros the table is."
   ]
  },
  {
   "cell_type": "code",
   "execution_count": 104,
   "metadata": {},
   "outputs": [
    {
     "name": "stdout",
     "output_type": "stream",
     "text": [
      "liste de zéros: 2148\n",
      "ceci est la valeur de a, nombre d'états possibles : 3000\n",
      "la liste est donc composé à : 0.716 % de 0\n"
     ]
    }
   ],
   "source": [
    "#Q_table = np.zeros([3,14,14,10])\n",
    "list_zero=0\n",
    "for k in range(10):\n",
    "    for j in range (10):\n",
    "        #print(\"\"\"\"\"\")\n",
    "        for l in range (10):\n",
    "            \n",
    "            for i in range (3):\n",
    "                if Q_table[i,l,j,k]==0:\n",
    "                    list_zero=list_zero+1\n",
    "                #else:\n",
    "                    #print(i)\n",
    "                    #print(l)\n",
    "                    #print(j)\n",
    "                    #print(k)\n",
    "                    #print(Q_table[i,l,j,k])\n",
    "                    \n",
    "print(\"liste de zéros: \"+str(list_zero))\n",
    "a=3*10*10*10\n",
    "print(\"ceci est la valeur de a, nombre d'états possibles : \"+str(a))\n",
    "print(\"la liste est donc composé à : \"+str(list_zero/a)+\" % de 0\")"
   ]
  },
  {
   "cell_type": "markdown",
   "metadata": {},
   "source": [
    "Allows us to save a Q table via the numpy library"
   ]
  },
  {
   "cell_type": "code",
   "execution_count": 83,
   "metadata": {},
   "outputs": [],
   "source": [
    "Q_table=load('Q_table_cas_3actionsSARSA.npy')"
   ]
  },
  {
   "cell_type": "markdown",
   "metadata": {},
   "source": [
    "## 3. Video of an épisode\n",
    "\n",
    "Allows us to watch an episode in which only what we've learned in the previous 1000 episodes is exploited."
   ]
  },
  {
   "cell_type": "code",
   "execution_count": 135,
   "metadata": {},
   "outputs": [
    {
     "name": "stdout",
     "output_type": "stream",
     "text": [
      "Cela nous donne un reward total de-9.0\n"
     ]
    }
   ],
   "source": [
    "frames=[]\n",
    "cum_reward=0\n",
    "cum_ball_hits=0\n",
    "#env = gym.make('Pong-v0')\n",
    "env = gym.make('PongNoFrameskip-v4')\n",
    "env = wrappers.Monitor(env, \"./gym-results\", force=True)\n",
    "env.reset()\n",
    "xff=1\n",
    "L=5000\n",
    "for t in range(L): \n",
    "    #print(\"episode n°\"+str(t))\n",
    "    bal_hits=0\n",
    "    yg=YG(observation)\n",
    "    yb=YB(observation)\n",
    "    xb=XB(observation)#XB(observation)\n",
    "\n",
    "    \n",
    "    if xff==2:\n",
    "        # explore, reward is -1\n",
    "        action = random.choice(random_action)\n",
    "        observation, reward, done, info = env.step(action) # same as before, but we keep track of the observation and reward\n",
    "        cum_reward += reward\n",
    "        frames.append(env.render(mode = 'rgb_array'))\n",
    "    \n",
    "    else:\n",
    "        #print(\"exploitation\")\n",
    "        if Q_table[0,yg,yb,xb]==Q_table[1,yg,yb,xb]==Q_table[2,yg,yb,xb]:\n",
    "            action = random.choice(random_action)\n",
    "            ##print(\"Nous avons pris l'action:\"+str(action))\n",
    "        elif (Q_table[0,yg,yb,xb]> Q_table[1,yg,yb,xb]) and (Q_table[0,yg,yb,xb]> Q_table[2,yg,yb,xb]):\n",
    "            action=1\n",
    "        elif (Q_table[1,yg,yb,xb]> Q_table[0,yg,yb,xb]) and (Q_table[1,yg,yb,xb]> Q_table[2,yg,yb,xb]):\n",
    "            action=2\n",
    "        elif (Q_table[2,yg,yb,xb]> Q_table[0,yg,yb,xb]) and (Q_table[2,yg,yb,xb]> Q_table[1,yg,yb,xb]):\n",
    "            action=3\n",
    "        \n",
    "        observation, reward, done, info = env.step(action)\n",
    "        frames.append(env.render(mode = 'rgb_array'))\n",
    "        cum_reward +=reward\n",
    "        cum_bal_hits+=bal_hits\n",
    "        if done:\n",
    "            break #if the game is over\n",
    "print(\"Cela nous donne un reward total de\"+str(cum_reward))\n",
    "env.close() "
   ]
  },
  {
   "cell_type": "code",
   "execution_count": null,
   "metadata": {},
   "outputs": [],
   "source": [
    "import io\n",
    "import base64\n",
    "from IPython.display import HTML\n",
    "\n",
    "video = io.open('./gym-results/openaigym.video.%s.video000000.mp4' % env.file_infix, 'r+b').read()\n",
    "encoded = base64.b64encode(video)\n",
    "HTML(data='''\n",
    "    <video width=\"360\" height=\"auto\" alt=\"test\" controls><source src=\"data:video/mp4;base64,{0}\" type=\"video/mp4\" /></video>'''\n",
    ".format(encoded.decode('ascii')))"
   ]
  },
  {
   "cell_type": "markdown",
   "metadata": {},
   "source": [
    "## 4. Comparison policies"
   ]
  },
  {
   "cell_type": "markdown",
   "metadata": {},
   "source": [
    "Allows us to load the different Q tables we have trained. The parameters of this ones are different in order to compare it"
   ]
  },
  {
   "cell_type": "code",
   "execution_count": 41,
   "metadata": {},
   "outputs": [],
   "source": [
    "Q_table=np.load('Q_table_cas_GagnantSARSA.npy') #500"
   ]
  },
  {
   "cell_type": "code",
   "execution_count": 42,
   "metadata": {},
   "outputs": [],
   "source": [
    "Q_table2=np.load('Q_table_cas_3actionsSARSA_epi=1000.npy') #1000"
   ]
  },
  {
   "cell_type": "code",
   "execution_count": 43,
   "metadata": {},
   "outputs": [],
   "source": [
    "Q_table3=np.load('Q_table_cas_3actionsSARSA_epi=1500.npy') #1500"
   ]
  },
  {
   "cell_type": "markdown",
   "metadata": {},
   "source": [
    "Policy in which the agent plays completely randomly"
   ]
  },
  {
   "cell_type": "code",
   "execution_count": 110,
   "metadata": {},
   "outputs": [],
   "source": [
    "PolicyR_t = 2*np.ones(5000,dtype='int')\n",
    "for t in range(5000):\n",
    "    PolicyR_t[t] = np.random.randint(3)+1"
   ]
  },
  {
   "cell_type": "code",
   "execution_count": 129,
   "metadata": {},
   "outputs": [
    {
     "name": "stdout",
     "output_type": "stream",
     "text": [
      "We work on policy n°1\n",
      "We work on policy n°2\n",
      "les résultats sont là\n"
     ]
    }
   ],
   "source": [
    "nepi = 50\n",
    "npol = 2\n",
    "L=5000\n",
    "\n",
    "\n",
    "all_rewards = np.zeros([nepi,npol])\n",
    "                        # tableaux avec tout\n",
    "\n",
    "#env = gym.make('Pong-v0')\n",
    "env = gym.make('PongNoFrameskip-v4')\n",
    "\n",
    "\n",
    "\n",
    "episode_id = True\n",
    "\n",
    "for p in range(npol): #qui va tester les polituqes une par une\n",
    "    \n",
    "    print(\"We work on policy n°\"+str(p+1))\n",
    "\n",
    "    for i in range(nepi):\n",
    "        \n",
    "        episode_id = True\n",
    "        \n",
    "        env.reset()\n",
    "        cum_reward = 0\n",
    "        cum_rewards = np.zeros(L)\n",
    "        t=0\n",
    "\n",
    "        for t in range(L):\n",
    "\n",
    "            if p==0 :\n",
    "                action = random.choice(random_action) #env.action_space.sample()\n",
    "                observation, reward, done, info = env.step(action)\n",
    "                cum_reward += reward # cum_reward = cum_reward + reward\n",
    "                cum_rewards[t] = cum_reward\n",
    "                all_rewards[i,p] = cum_reward\n",
    "                if t == L-1:\n",
    "                    done = 1\n",
    "                if done:\n",
    "                    break #if the game is over\n",
    "            elif p==1:\n",
    "                yg=YG(observation)\n",
    "                yb=YB(observation)\n",
    "                xb=XB(observation)\n",
    "                if Q_table[0,yg,yb,xb]==Q_table[1,yg,yb,xb]==Q_table[2,yg,yb,xb]:\n",
    "                #print(\"pas de préférence\")\n",
    "                    action = random.choice(random_action)\n",
    "                #print(\"Nous avons pris l'action:\"+str(action))\n",
    "                elif (Q_table[0,yg,yb,xb]> Q_table[1,yg,yb,xb]) and (Q_table[0,yg,yb,xb]> Q_table[2,yg,yb,xb]):\n",
    "                    action=1\n",
    "                elif (Q_table[1,yg,yb,xb]> Q_table[0,yg,yb,xb]) and (Q_table[1,yg,yb,xb]> Q_table[2,yg,yb,xb]):\n",
    "                    action=2\n",
    "                elif (Q_table[2,yg,yb,xb]> Q_table[0,yg,yb,xb]) and (Q_table[2,yg,yb,xb]> Q_table[1,yg,yb,xb]):\n",
    "                    action=3\n",
    "            #print(\"on a pris l'action 3\")\n",
    "                observation, reward, done, info = env.step(action)\n",
    "                cum_reward += reward\n",
    "                cum_rewards[t]=cum_reward\n",
    "                all_rewards[i,p]=cum_reward\n",
    "                if t==L-1:\n",
    "                    done=1\n",
    "                if done: #21 points d'un côté\n",
    "                    break\n",
    "                    \n",
    "            elif p==2:\n",
    "                yg=YG(observation)\n",
    "                yb=YB(observation)\n",
    "                xb=XB(observation)\n",
    "                if Q_table2[0,yg,yb,xb]==Q_table2[1,yg,yb,xb]==Q_table2[2,yg,yb,xb]:\n",
    "                #print(\"pas de préférence\")\n",
    "                    action = random.choice(random_action)\n",
    "                #print(\"Nous avons pris l'action:\"+str(action))\n",
    "                elif (Q_table2[0,yg,yb,xb]> Q_table2[1,yg,yb,xb]) and (Q_table2[0,yg,yb,xb]> Q_table2[2,yg,yb,xb]):\n",
    "                    action=1\n",
    "                elif (Q_table2[1,yg,yb,xb]> Q_table2[0,yg,yb,xb]) and (Q_table2[1,yg,yb,xb]> Q_table2[2,yg,yb,xb]):\n",
    "                    action=2\n",
    "                elif (Q_table2[2,yg,yb,xb]> Q_table2[0,yg,yb,xb]) and (Q_table2[2,yg,yb,xb]> Q_table2[1,yg,yb,xb]):\n",
    "                    action=3\n",
    "                observation, reward, done, info = env.step(action)\n",
    "                cum_reward += reward\n",
    "                cum_rewards[t]=cum_reward\n",
    "                all_rewards[i,p]=cum_reward\n",
    "                if t==L-1:\n",
    "                    done=1\n",
    "                if done: \n",
    "                    break\n",
    "                    \n",
    "            elif p==3:\n",
    "                yg=YG(observation)\n",
    "                yb=YB(observation)\n",
    "                xb=XB(observation)\n",
    "                if Q_table3[0,yg,yb,xb]==Q_table3[1,yg,yb,xb]==Q_table3[2,yg,yb,xb]:\n",
    "                #print(\"pas de préférence\")\n",
    "                    action = random.choice(random_action)\n",
    "                #print(\"Nous avons pris l'action:\"+str(action))\n",
    "                elif (Q_table3[0,yg,yb,xb]> Q_table3[1,yg,yb,xb]) and (Q_table3[0,yg,yb,xb]> Q_table3[2,yg,yb,xb]):\n",
    "                    action=1\n",
    "                elif (Q_table3[1,yg,yb,xb]> Q_table3[0,yg,yb,xb]) and (Q_table3[1,yg,yb,xb]> Q_table3[2,yg,yb,xb]):\n",
    "                    action=2\n",
    "                elif (Q_table3[2,yg,yb,xb]> Q_table3[0,yg,yb,xb]) and (Q_table3[2,yg,yb,xb]> Q_table3[1,yg,yb,xb]):\n",
    "                    action=3\n",
    "            #print(\"on a pris l'action 3\")\n",
    "                observation, reward, done, info = env.step(action)\n",
    "                cum_reward += reward\n",
    "                cum_rewards[t]=cum_reward\n",
    "                all_rewards[i,p]=cum_reward\n",
    "                if t==L-1:\n",
    "                    done=1\n",
    "                if done: #21 points d'un côté\n",
    "                    break\n",
    "        env.close()\n",
    "print(\"les résultats sont là\")"
   ]
  },
  {
   "cell_type": "code",
   "execution_count": 130,
   "metadata": {},
   "outputs": [
    {
     "data": {
      "image/png": "[encoded data removed]",
      "text/plain": [
       "<Figure size 432x288 with 1 Axes>"
      ]
     },
     "metadata": {
      "needs_background": "light"
     },
     "output_type": "display_data"
    }
   ],
   "source": [
    "plt.boxplot(all_rewards)\n",
    "plt.title('Reward for proposed policies on Pong_V4')\n",
    "plt.xlabel('Policy ')\n",
    "plt.ylabel('Total reward')\n",
    "plt.xticks([1, 2], ['random','SARSA'])\n",
    "plt.show()"
   ]
  },
  {
   "cell_type": "code",
   "execution_count": 131,
   "metadata": {},
   "outputs": [
    {
     "data": {
      "text/plain": [
       "array([-20.44, -10.48])"
      ]
     },
     "execution_count": 131,
     "metadata": {},
     "output_type": "execute_result"
    }
   ],
   "source": [
    "np.mean(all_rewards,0)"
   ]
  },
  {
   "cell_type": "code",
   "execution_count": 132,
   "metadata": {},
   "outputs": [
    {
     "data": {
      "text/plain": [
       "array([0.80399005, 1.04383907])"
      ]
     },
     "execution_count": 132,
     "metadata": {},
     "output_type": "execute_result"
    }
   ],
   "source": [
    "np.std(all_rewards,0)"
   ]
  },
  {
   "cell_type": "code",
   "execution_count": 133,
   "metadata": {},
   "outputs": [
    {
     "data": {
      "text/plain": [
       "(array([[44.,  4.,  2.,  0.,  0.,  0.,  0.,  0.,  0.,  0.],\n",
       "        [ 0.,  0.,  0.,  0.,  0.,  0.,  8., 14., 21.,  7.]]),\n",
       " array([-21. , -19.7, -18.4, -17.1, -15.8, -14.5, -13.2, -11.9, -10.6,\n",
       "         -9.3,  -8. ]),\n",
       " <a list of 2 Lists of Patches objects>)"
      ]
     },
     "execution_count": 133,
     "metadata": {},
     "output_type": "execute_result"
    },
    {
     "data": {
      "image/png": "[encoded data removed]",
      "text/plain": [
       "<Figure size 432x288 with 1 Axes>"
      ]
     },
     "metadata": {
      "needs_background": "light"
     },
     "output_type": "display_data"
    }
   ],
   "source": [
    "plt.hist(all_rewards)"
   ]
  }
 ],
 "metadata": {
  "kernelspec": {
   "display_name": "Python 3",
   "language": "python",
   "name": "python3"
  },
  "language_info": {
   "codemirror_mode": {
    "name": "ipython",
    "version": 3
   },
   "file_extension": ".py",
   "mimetype": "text/x-python",
   "name": "python",
   "nbconvert_exporter": "python",
   "pygments_lexer": "ipython3",
   "version": "3.7.6"
  }
 },
 "nbformat": 4,
 "nbformat_minor": 4
}
